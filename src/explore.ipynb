{
 "cells": [
  {
   "cell_type": "markdown",
   "metadata": {},
   "source": [
    "# Explore"
   ]
  },
  {
   "cell_type": "markdown",
   "metadata": {},
   "source": [
    "In this notebook we create the distribution plots of the runs obtained in our `experiment` notebook."
   ]
  },
  {
   "cell_type": "markdown",
   "metadata": {},
   "source": [
    "Imports"
   ]
  },
  {
   "cell_type": "code",
   "execution_count": null,
   "metadata": {},
   "outputs": [],
   "source": [
    "import os\n",
    "import numpy as np\n",
    "import pandas as pd\n",
    "import matplotlib.pyplot as plt\n",
    "from utils import get_directories"
   ]
  },
  {
   "cell_type": "code",
   "execution_count": null,
   "metadata": {},
   "outputs": [],
   "source": [
    "DIRS = get_directories(os.path.join(os.path.abspath(''), 'explore.ipynb'))"
   ]
  },
  {
   "cell_type": "markdown",
   "metadata": {},
   "source": [
    "This function will be used to create all of the following plots."
   ]
  },
  {
   "cell_type": "code",
   "execution_count": null,
   "metadata": {},
   "outputs": [],
   "source": [
    "def plot_split(dfs: list[pd.DataFrame], headers: list[str], title: str) -> plt.Figure:\n",
    "    \"\"\"\n",
    "    Takes number of (min 2, max 4) dataframes and plots the \"raw\" results along with a histogram in separate subplots.\n",
    "    2 & 3 dfs will be shown in one row, 4 will result in a 2x2 grid.\n",
    "    Headers are used as titles for the subplots, so they should be in the same order as the dataframes.\n",
    "    The title is used for the whole figure.\n",
    "    \"\"\"\n",
    "    \n",
    "    assert len(dfs) > 1 and len(dfs) < 5, \"Please only give 2, 3 or 4 dataframes\"\n",
    "    assert len(dfs) == len(headers), \"Please give as many headers as dataframes\"\n",
    "    ndfs = len(dfs)\n",
    "\n",
    "    if ndfs != 4:\n",
    "        fig, axes = plt.subplots(1, ndfs, figsize=(5*ndfs, 5), sharey=True)\n",
    "    else:\n",
    "        fig, axes = plt.subplots(2, 2, figsize=(10, 10))\n",
    "        # spread axes so we can loop over them\n",
    "        axes = list(axes[0]) + list(axes[1])\n",
    "    \n",
    "    # will be used to set bounds for the histograms, as y-axis is shared\n",
    "    full_df = pd.concat(dfs, ignore_index=True)\n",
    "    bounds = (full_df.max_avg_value.min(), full_df.max_avg_value.max())\n",
    "    # small delta to avoid clipping\n",
    "    delta = (bounds[1] - bounds[0]) * 0.01\n",
    "    bounds = (bounds[0] - delta, bounds[1] + delta)\n",
    "\n",
    "    rev = lambda s: list(reversed(list(s)))\n",
    "    for i, (df, ax) in enumerate(zip(dfs, axes)):\n",
    "        # observations\n",
    "        ax.scatter(df.index, rev(df.max_avg_value), c=f'C{i}', marker='|', s=10)\n",
    "        ax.set_title(headers[i])\n",
    "        if i == 0: ax.set_ylabel('validation accuracy')\n",
    "        ax.set_xlabel('frequency / ranking')\n",
    "        ax.set_xticks([], [])\n",
    "        ax.set_ylim(bounds)\n",
    "    \n",
    "        # histogram\n",
    "        ax2 = ax.twinx()\n",
    "        bins = np.arange(bounds[0], bounds[1], (bounds[1]-bounds[0])/50)\n",
    "        ax2.hist(df.max_avg_value, bins=bins, orientation='horizontal', color=f'C{i}', alpha=0.5)\n",
    "        ax2.grid(False)\n",
    "        ax2.set_yticks([], [])\n",
    "        ax2.set_xticks([], [])\n",
    "        ax2.set_title('')\n",
    "        ax2.set_ylim(bounds)\n",
    "\n",
    "    fig.suptitle(title, fontsize=16, weight='bold')\n",
    "    fig.tight_layout()\n",
    "    return fig"
   ]
  },
  {
   "cell_type": "markdown",
   "metadata": {},
   "source": [
    "---\n",
    "\n",
    "## Genetic Algorithm"
   ]
  },
  {
   "cell_type": "code",
   "execution_count": null,
   "metadata": {},
   "outputs": [],
   "source": [
    "df_GA = pd.read_csv(os.path.join(DIRS['csv'], 'GA_exp.csv'), index_col=0)"
   ]
  },
  {
   "cell_type": "code",
   "execution_count": null,
   "metadata": {},
   "outputs": [],
   "source": [
    "# mu+lambda vs. mu,lambda\n",
    "df_comma = df_GA[df_GA['lambda'] == df_GA['pop_size']]\n",
    "df_plus = df_GA[df_GA['lambda'] != df_GA['pop_size']]\n",
    "fig = plot_split([df_comma, df_plus], ['\\u03bc,\\u03bb', '\\u03bc+\\u03bb'], '\\u03bc,\\u03bb vs. \\u03bc+\\u03bb in GA')\n",
    "fig.savefig(DIRS['plots'] + f'elitism_GA.png', dpi=300)"
   ]
  },
  {
   "cell_type": "code",
   "execution_count": null,
   "metadata": {},
   "outputs": [],
   "source": [
    "# pop_size 40 vs 100\n",
    "df_40 = df_GA[df_GA['pop_size'] == 40]\n",
    "df_100 = df_GA[df_GA['pop_size'] == 100]\n",
    "fig = plot_split([df_40, df_100], ['40', '100'], 'population size in GA')\n",
    "fig.savefig(DIRS['plots'] + f'pop_size_GA.png', dpi=300)"
   ]
  },
  {
   "cell_type": "code",
   "execution_count": null,
   "metadata": {},
   "outputs": [],
   "source": [
    "# different selections (rw, ts, rk, su)\n",
    "df_rw = df_GA[df_GA['selection'] == 'rw']\n",
    "df_ts = df_GA[df_GA['selection'] == 'ts']\n",
    "df_rk = df_GA[df_GA['selection'] == 'rk']\n",
    "df_su = df_GA[df_GA['selection'] == 'su']\n",
    "fig = plot_split([df_rw, df_ts, df_rk, df_su], ['roulette wheel', 'tournament', 'rank', 'stochastic universal'], 'selection in GA')\n",
    "fig.savefig(DIRS['plots'] + f'selection_GA.png', dpi=300)"
   ]
  },
  {
   "cell_type": "code",
   "execution_count": null,
   "metadata": {},
   "outputs": [],
   "source": [
    "# different mutation methods (u in mutation column, b in mutation column)\n",
    "df_u = df_GA[df_GA['mutation'].isin(['u(0.001)', 'u(0.005)', 'u(0.1)'])]\n",
    "df_b = df_GA[df_GA['mutation'].isin(['b(1)', 'b(2)', 'b(3)'])]\n",
    "fig = plot_split([df_u, df_b], ['uniform', 'bitflip'], 'mutation in GA')\n",
    "fig.savefig(DIRS['plots'] + f'mutation_GA.png', dpi=300)"
   ]
  },
  {
   "cell_type": "code",
   "execution_count": null,
   "metadata": {},
   "outputs": [],
   "source": [
    "# different mutation rates (0.001, 0.005, 0.1)\n",
    "df_mu1 = df_GA[df_GA['mutation'] == 'u(0.001)']\n",
    "df_mu5 = df_GA[df_GA['mutation'] == 'u(0.005)']\n",
    "df_mu10 = df_GA[df_GA['mutation'] == 'u(0.1)']\n",
    "fig = plot_split([df_mu1, df_mu5, df_mu10], ['0.001', '0.005', '0.1'], 'mutation rate in GA')\n",
    "fig.savefig(DIRS['plots'] + f'mutation_rate_GA.png', dpi=300)"
   ]
  },
  {
   "cell_type": "code",
   "execution_count": null,
   "metadata": {},
   "outputs": [],
   "source": [
    "# different bit flips\n",
    "df_b1 = df_GA[df_GA['mutation'] == 'b(1)']\n",
    "df_b2 = df_GA[df_GA['mutation'] == 'b(2)']\n",
    "df_b3 = df_GA[df_GA['mutation'] == 'b(3)']\n",
    "fig = plot_split([df_b1, df_b2, df_b3], ['1', '2', '3'], 'bit flips in GA')\n",
    "fig.savefig(DIRS['plots'] + f'bit_flips_GA.png', dpi=300)"
   ]
  },
  {
   "cell_type": "code",
   "execution_count": null,
   "metadata": {},
   "outputs": [],
   "source": [
    "# different recombinations (kp1, kp2, kp3, u)\n",
    "df_kp1 = df_GA[df_GA['recombination'] == 'kp(1)']\n",
    "df_kp2 = df_GA[df_GA['recombination'] == 'kp(2)']\n",
    "df_kp3 = df_GA[df_GA['recombination'] == 'kp(3)']\n",
    "df_u = df_GA[df_GA['recombination'] == 'u']\n",
    "fig = plot_split([df_kp1, df_kp2, df_kp3, df_u], ['kp(1)', 'kp(2)', 'kp(3)', 'uniform'], 'recombination in GA')\n",
    "fig.savefig(DIRS['plots'] + f'recombination_GA.png', dpi=300)"
   ]
  },
  {
   "cell_type": "markdown",
   "metadata": {},
   "source": [
    "---\n",
    "\n",
    "## Evolutionary Strategy"
   ]
  },
  {
   "cell_type": "code",
   "execution_count": null,
   "metadata": {},
   "outputs": [],
   "source": [
    "df_ES = pd.read_csv(DIRS['csv'] + 'ES_exp.csv', index_col=0)"
   ]
  },
  {
   "cell_type": "code",
   "execution_count": null,
   "metadata": {},
   "outputs": [],
   "source": [
    "# remove \"extreme\" outliers (everything below 0.93)\n",
    "df_ES = df_ES[df_ES.max_avg_value > 0.92]"
   ]
  },
  {
   "cell_type": "code",
   "execution_count": null,
   "metadata": {},
   "outputs": [],
   "source": [
    "# mu+lambda vs. mu,lambda\n",
    "df_comma = df_ES[df_ES['lambda'] == df_ES['pop_size']]\n",
    "df_plus = df_ES[df_ES['lambda'] != df_ES['pop_size']]\n",
    "fig = plot_split([df_comma, df_plus], ['\\u03bc,\\u03bb', '\\u03bc+\\u03bb'], '\\u03bc,\\u03bb vs. \\u03bc+\\u03bb in ES')\n",
    "fig.savefig(DIRS['plots'] + f'elitism_ES1.png', dpi=300)"
   ]
  },
  {
   "cell_type": "code",
   "execution_count": null,
   "metadata": {},
   "outputs": [],
   "source": [
    "# pop_size 40 vs 100\n",
    "df_40 = df_ES[df_ES['pop_size'] == '40']\n",
    "df_100 = df_ES[df_ES['pop_size'] == '100']\n",
    "fig = plot_split([df_40, df_100], ['40', '100'], 'population size in ES')\n",
    "fig.savefig(DIRS['plots'] + f'pop_size_ES1.png', dpi=300)"
   ]
  },
  {
   "cell_type": "code",
   "execution_count": null,
   "metadata": {},
   "outputs": [],
   "source": [
    "# different taus (0.1, 0.2, 0.5, 0.99)\n",
    "df_tau1 = df_ES[df_ES['tau'] == '0.1']\n",
    "df_tau2 = df_ES[df_ES['tau'] == '0.2']\n",
    "df_tau5 = df_ES[df_ES['tau'] == '0.5']\n",
    "df_tau99 = df_ES[df_ES['tau'] == '0.99']\n",
    "fig = plot_split([df_tau1, df_tau2, df_tau5, df_tau99], ['0.1', '0.2', '0.5', '0.99'], r'$\\mathbf{\\tau}$ in ES')\n",
    "fig.savefig(DIRS['plots'] + f'tau_ES1.png', dpi=300)"
   ]
  },
  {
   "cell_type": "code",
   "execution_count": null,
   "metadata": {},
   "outputs": [],
   "source": [
    "# different sigmas (0.01, 0.1, 0.5)\n",
    "df_sig1 = df_ES[df_ES['sigma'] == '0.01']\n",
    "df_sig2 = df_ES[df_ES['sigma'] == '0.1']\n",
    "df_sig5 = df_ES[df_ES['sigma'] == '0.5']\n",
    "fig = plot_split([df_sig1, df_sig2, df_sig5], ['0.01', '0.1', '0.5'], r'$\\mathbf{\\sigma}$ in ES')\n",
    "fig.savefig(DIRS['plots'] + f'sigma_ES1.png', dpi=300)"
   ]
  },
  {
   "cell_type": "code",
   "execution_count": null,
   "metadata": {},
   "outputs": [],
   "source": [
    "# different recombination methods (d, i, dg, ig)\n",
    "df_d = df_ES[df_ES['recombination'] == 'd']\n",
    "df_i = df_ES[df_ES['recombination'] == 'i']\n",
    "df_dg = df_ES[df_ES['recombination'] == 'dg']\n",
    "df_ig = df_ES[df_ES['recombination'] == 'ig']\n",
    "fig = plot_split([df_d, df_i, df_dg, df_ig], ['discrete', 'intermediate', 'discrete global', 'intermediate global'], 'recombination in ES')\n",
    "fig.savefig(DIRS['plots'] + f'recombination_ES1.png', dpi=300)"
   ]
  },
  {
   "cell_type": "code",
   "execution_count": null,
   "metadata": {},
   "outputs": [],
   "source": [
    "# individual sigmas\n",
    "df_isig = df_ES[df_ES['individual_sigmas'] == 'True']\n",
    "df_no_isig = df_ES[df_ES['individual_sigmas'] == 'False']\n",
    "fig = plot_split([df_isig, df_no_isig], ['True', 'False'], 'individual sigmas in ES')\n",
    "fig.savefig(DIRS['plots'] + f'individual_sigmas_ES1.png', dpi=300)"
   ]
  },
  {
   "cell_type": "code",
   "execution_count": null,
   "metadata": {},
   "outputs": [],
   "source": [
    "# chunk sizes (3, 7)\n",
    "df_chsz3 = df_ES[df_ES['chunk_size'] == '3']\n",
    "df_chsz7 = df_ES[df_ES['chunk_size'] == '7']\n",
    "fig = plot_split([df_chsz3, df_chsz7], ['3', '7'], 'chunk size in ES')\n",
    "fig.savefig(DIRS['plots'] + f'chunk_size_ES1.png', dpi=300)"
   ]
  }
 ],
 "metadata": {
  "kernelspec": {
   "display_name": "Python 3.10.6 ('venv': venv)",
   "language": "python",
   "name": "python3"
  },
  "language_info": {
   "codemirror_mode": {
    "name": "ipython",
    "version": 3
   },
   "file_extension": ".py",
   "mimetype": "text/x-python",
   "name": "python",
   "nbconvert_exporter": "python",
   "pygments_lexer": "ipython3",
   "version": "3.10.8"
  },
  "orig_nbformat": 4,
  "vscode": {
   "interpreter": {
    "hash": "ba309399f570c57919de3bfb36c195c6481f6cdea1861c2eb2b107e7cf184e6f"
   }
  }
 },
 "nbformat": 4,
 "nbformat_minor": 2
}
