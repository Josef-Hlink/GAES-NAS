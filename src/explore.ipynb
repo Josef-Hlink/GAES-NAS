{
 "cells": [
  {
   "cell_type": "code",
   "execution_count": null,
   "metadata": {},
   "outputs": [],
   "source": [
    "from ioh import problem, OptimizationType\n",
    "from ioh import get_problem\n",
    "import numpy as np\n"
   ]
  },
  {
   "cell_type": "code",
   "execution_count": null,
   "metadata": {},
   "outputs": [],
   "source": [
    "f = get_problem(7, dimension=5, instance=1, problem_type = 'Real')\n",
    "\n",
    "print(f.meta_data)"
   ]
  }
 ],
 "metadata": {
  "kernelspec": {
   "display_name": "Python 3.10.6 ('venv': venv)",
   "language": "python",
   "name": "python3"
  },
  "language_info": {
   "codemirror_mode": {
    "name": "ipython",
    "version": 3
   },
   "file_extension": ".py",
   "mimetype": "text/x-python",
   "name": "python",
   "nbconvert_exporter": "python",
   "pygments_lexer": "ipython3",
   "version": "3.10.6"
  },
  "orig_nbformat": 4,
  "vscode": {
   "interpreter": {
    "hash": "ba309399f570c57919de3bfb36c195c6481f6cdea1861c2eb2b107e7cf184e6f"
   }
  }
 },
 "nbformat": 4,
 "nbformat_minor": 2
}
