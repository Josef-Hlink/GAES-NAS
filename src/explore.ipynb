{
 "cells": [
  {
   "cell_type": "code",
   "execution_count": null,
   "metadata": {},
   "outputs": [],
   "source": [
    "import os\n",
    "import pandas as pd\n",
    "import matplotlib.pyplot as plt\n",
    "from utils import get_directories\n",
    "DIRS = get_directories(os.path.abspath('') + os.sep + 'explore.ipynb')"
   ]
  },
  {
   "cell_type": "code",
   "execution_count": null,
   "metadata": {},
   "outputs": [],
   "source": [
    "def plot_results(run_id, save=False):\n",
    "    df = pd.read_csv(DIRS['csv'] + f'{run_id}.csv', index_col=0).cummax() * 100\n",
    "    fig, ax = plt.subplots(figsize=(10, 6))\n",
    "    for i in df.columns:\n",
    "        ax.plot(df.index, df[i], color='tab:blue', alpha=0.2, linewidth=0.75)\n",
    "    ax.plot(df.mean(axis=1), color='tab:blue', linewidth=2, label=f'max: {df.mean(axis=1).iloc[-1]:.4f}%')\n",
    "    ax.fill_between(df.index, df.min(axis=1), df.max(axis=1), color='tab:blue', alpha=0.2)\n",
    "    ax.set_xlabel('generation'); ax.set_ylabel('fitness (%)')\n",
    "    ax.legend()\n",
    "    ax.set_title(f'Genetic Algorithm {run_id}')\n",
    "    fig.tight_layout()\n",
    "    if save: fig.savefig(DIRS['plots'] + f'{run_id}.png', dpi=300)\n",
    "    return"
   ]
  },
  {
   "cell_type": "code",
   "execution_count": null,
   "metadata": {},
   "outputs": [],
   "source": [
    "run_id = 'GA_11-30_145255'\n",
    "plot_results(run_id, save=False)"
   ]
  }
 ],
 "metadata": {
  "kernelspec": {
   "display_name": "Python 3.10.6 ('venv': venv)",
   "language": "python",
   "name": "python3"
  },
  "language_info": {
   "codemirror_mode": {
    "name": "ipython",
    "version": 3
   },
   "file_extension": ".py",
   "mimetype": "text/x-python",
   "name": "python",
   "nbconvert_exporter": "python",
   "pygments_lexer": "ipython3",
   "version": "3.10.8"
  },
  "orig_nbformat": 4,
  "vscode": {
   "interpreter": {
    "hash": "ba309399f570c57919de3bfb36c195c6481f6cdea1861c2eb2b107e7cf184e6f"
   }
  }
 },
 "nbformat": 4,
 "nbformat_minor": 2
}
