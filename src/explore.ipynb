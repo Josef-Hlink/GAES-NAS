{
 "cells": [
  {
   "cell_type": "code",
   "execution_count": null,
   "metadata": {},
   "outputs": [],
   "source": [
    "import os\n",
    "\n",
    "import pandas as pd\n",
    "import matplotlib.pyplot as plt\n",
    "\n",
    "from utils import get_directories"
   ]
  },
  {
   "cell_type": "code",
   "execution_count": null,
   "metadata": {},
   "outputs": [],
   "source": [
    "DIRS = get_directories(os.path.abspath('') + os.sep + 'explore.ipynb')"
   ]
  },
  {
   "cell_type": "code",
   "execution_count": null,
   "metadata": {},
   "outputs": [],
   "source": [
    "run_id = 'GA_11-30_000425'\n",
    "run_id = 'GA_11-30_113158'"
   ]
  },
  {
   "cell_type": "code",
   "execution_count": null,
   "metadata": {},
   "outputs": [],
   "source": [
    "df = pd.read_csv(DIRS['csv'] + f'{run_id}.csv', index_col=0)\n",
    "# transform the df to be only the highest value found so far\n",
    "df = df.cummax()"
   ]
  },
  {
   "cell_type": "code",
   "execution_count": null,
   "metadata": {},
   "outputs": [],
   "source": [
    "fig, ax = plt.subplots(figsize=(10, 6))\n",
    "\n",
    "# columns are repetitions, rows are generations\n",
    "# we want to plot them all with a small line width, and the mean with a larger line width\n",
    "for i in df.columns:\n",
    "    ax.plot(df.index, df[i], color='tab:blue', alpha=0.2, linewidth=0.75)\n",
    "ax.plot(df.mean(axis=1), color='tab:blue', linewidth=2)\n",
    "\n",
    "# fill between the min and max\n",
    "ax.fill_between(df.index, df.min(axis=1), df.max(axis=1), color='tab:blue', alpha=0.2)\n",
    "\n",
    "ax.set_xlabel('Generation')\n",
    "ax.set_ylabel('Fitness')\n",
    "ax.set_title(f'Genetic Algorithm {run_id}')\n",
    "\n",
    "fig.tight_layout()\n",
    "fig.savefig(DIRS['plots'] + f'{run_id}.png', dpi=300)"
   ]
  }
 ],
 "metadata": {
  "kernelspec": {
   "display_name": "Python 3.10.6 ('venv': venv)",
   "language": "python",
   "name": "python3"
  },
  "language_info": {
   "codemirror_mode": {
    "name": "ipython",
    "version": 3
   },
   "file_extension": ".py",
   "mimetype": "text/x-python",
   "name": "python",
   "nbconvert_exporter": "python",
   "pygments_lexer": "ipython3",
   "version": "3.10.8"
  },
  "orig_nbformat": 4,
  "vscode": {
   "interpreter": {
    "hash": "ba309399f570c57919de3bfb36c195c6481f6cdea1861c2eb2b107e7cf184e6f"
   }
  }
 },
 "nbformat": 4,
 "nbformat_minor": 2
}
