{
 "cells": [
  {
   "cell_type": "markdown",
   "metadata": {},
   "source": [
    "# Final"
   ]
  },
  {
   "cell_type": "markdown",
   "metadata": {},
   "source": [
    "In this notebook we run the configurations we have selected based on the results of our `experiment` notebook.\n",
    "The main difference here is that we now attach the an `IOH` logger to the problem object so we can export and visualize the results of these final runs in IOanalyzer."
   ]
  },
  {
   "cell_type": "markdown",
   "metadata": {},
   "source": [
    "Imports"
   ]
  },
  {
   "cell_type": "code",
   "execution_count": null,
   "metadata": {},
   "outputs": [],
   "source": [
    "import os\n",
    "from itertools import product\n",
    "\n",
    "from nasbench.api import NASBench\n",
    "\n",
    "from main import init_ipynb\n",
    "from utils import get_directories, ProgressBar"
   ]
  },
  {
   "cell_type": "code",
   "execution_count": null,
   "metadata": {},
   "outputs": [],
   "source": [
    "DIRS = get_directories(os.path.join(os.path.abspath(''), 'final.ipynb'))"
   ]
  },
  {
   "cell_type": "code",
   "execution_count": null,
   "metadata": {},
   "outputs": [],
   "source": [
    "NB = NASBench(DIRS['data'] + 'nasbench_only108.tfrecord', seed=42)"
   ]
  },
  {
   "cell_type": "markdown",
   "metadata": {},
   "source": [
    "---\n",
    "\n",
    "## Genetic Algorithm"
   ]
  },
  {
   "cell_type": "code",
   "execution_count": null,
   "metadata": {},
   "outputs": [],
   "source": [
    "exp_id = 'GA_fin'\n",
    "DIRS['csv_exp'] = DIRS['csv'] + exp_id + os.sep\n",
    "if not os.path.exists(DIRS['csv_exp']):\n",
    "    os.mkdir(DIRS['csv_exp'])\n",
    "\n",
    "for n, p in DIRS.items():\n",
    "    print(f'{n}: {p}')"
   ]
  },
  {
   "cell_type": "code",
   "execution_count": null,
   "metadata": {},
   "outputs": [],
   "source": [
    "default_args = dict(budget=5000, verbose=0, repetitions=20, log=True, seed=42)"
   ]
  },
  {
   "cell_type": "code",
   "execution_count": null,
   "metadata": {},
   "outputs": [],
   "source": [
    "mutations = [('u', 0.1), ('b', 2)]\n",
    "recombinations = [('kp', 1), ('u', None)]\n",
    "pop_divisions = [(100, 20, 100), (100, 20, 80), (100, 10, 100), (100, 10, 90)]\n",
    "\n",
    "# create a list of all possible combinations of the above parameters\n",
    "combinations = list(product(mutations, recombinations, pop_divisions))\n",
    "n_combs = len(combinations)\n",
    "progress = ProgressBar(n_combs, exp_id)\n",
    "\n",
    "for i, (mut, rec, (ps, mu, lm)) in enumerate(combinations):\n",
    "    args = default_args.copy()\n",
    "    args['optimizer'] = 'GA'\n",
    "    args['selection'] = 'ts'\n",
    "    args['mutation'] = mut[0]\n",
    "    if mut[0] == 'u':\n",
    "        args['mut_r'] = mut[1]\n",
    "        args['mut_b'] = 1\n",
    "    else:\n",
    "        args['mut_b'] = mut[1]\n",
    "        args['mut_r'] = None\n",
    "    args['recombination'] = rec[0]\n",
    "    args['xp'] = rec[1]\n",
    "    args['population_size'] = ps\n",
    "    args['mu_'] = mu\n",
    "    args['lambda_'] = lm\n",
    "    run_id = f'GA_{ps}_{mu}_{lm}_{mut[0]}({mut[1]})_{rec[0]}({rec[1]})'.replace('(None)', '')\n",
    "    args['run_id'] = run_id\n",
    "\n",
    "    # run the experiment\n",
    "    init_ipynb(NB, args, save_to=DIRS['csv_exp'])\n",
    "\n",
    "    progress(i)"
   ]
  },
  {
   "cell_type": "markdown",
   "metadata": {},
   "source": [
    "---\n",
    "\n",
    "## Evolution Strategy"
   ]
  },
  {
   "cell_type": "code",
   "execution_count": null,
   "metadata": {},
   "outputs": [],
   "source": [
    "exp_id = 'ES_fin'\n",
    "DIRS['csv_exp'] = DIRS['csv'] + exp_id + os.sep\n",
    "if not os.path.exists(DIRS['csv_exp']):\n",
    "    os.mkdir(DIRS['csv_exp'])\n",
    "\n",
    "for n, p in DIRS.items():\n",
    "    print(f'{n}: {p}')"
   ]
  },
  {
   "cell_type": "code",
   "execution_count": null,
   "metadata": {},
   "outputs": [],
   "source": [
    "recombinations = ['dg', 'i']\n",
    "sigmas = [0.1, 0.5]\n",
    "pop_divisions = [(100, 20, 100), (100, 20, 80), (100, 10, 100), (100, 10, 90)]\n",
    "\n",
    "# create a list of all possible combinations of the above parameters\n",
    "combinations = list(product(recombinations, sigmas, pop_divisions))\n",
    "n_combs = len(combinations)\n",
    "progress = ProgressBar(n_combs, exp_id)\n",
    "\n",
    "for i, (rec, sigma, (ps, mu, lm)) in enumerate(combinations):\n",
    "    args = default_args.copy()\n",
    "    args['optimizer'] = 'ES'\n",
    "    args['recombination'] = rec\n",
    "    args['tau_'] = 0.5\n",
    "    args['sigma_'] = sigma\n",
    "    args['chunk_size'] = 3\n",
    "    args['individual_sigmas'] = True\n",
    "    args['population_size'] = ps\n",
    "    args['mu_'] = mu\n",
    "    args['lambda_'] = lm\n",
    "    run_id = f'ES_{ps}_{mu}_{lm}_{rec}_{sigma}'\n",
    "    args['run_id'] = run_id\n",
    "\n",
    "    # run the experiment\n",
    "    init_ipynb(NB, args, save_to=DIRS['csv_exp'])\n",
    "\n",
    "    progress(i)"
   ]
  }
 ],
 "metadata": {
  "kernelspec": {
   "display_name": "Python 3.10.8 ('venv': venv)",
   "language": "python",
   "name": "python3"
  },
  "language_info": {
   "codemirror_mode": {
    "name": "ipython",
    "version": 3
   },
   "file_extension": ".py",
   "mimetype": "text/x-python",
   "name": "python",
   "nbconvert_exporter": "python",
   "pygments_lexer": "ipython3",
   "version": "3.10.8"
  },
  "orig_nbformat": 4,
  "vscode": {
   "interpreter": {
    "hash": "ba309399f570c57919de3bfb36c195c6481f6cdea1861c2eb2b107e7cf184e6f"
   }
  }
 },
 "nbformat": 4,
 "nbformat_minor": 2
}
