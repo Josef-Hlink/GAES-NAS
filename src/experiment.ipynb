{
 "cells": [
  {
   "cell_type": "markdown",
   "metadata": {},
   "source": [
    "# Experiment"
   ]
  },
  {
   "cell_type": "markdown",
   "metadata": {},
   "source": [
    "In this notebook we will explore a range of parameters for both GA and ES to find the best combination of parameters for each algorithm.\n",
    "We do this as a simple gridsearch where we specify a set of values for each parameter and then simply run all possible configurations.\n",
    "The results of each run are stored in a csv file."
   ]
  },
  {
   "cell_type": "markdown",
   "metadata": {},
   "source": [
    "Imports"
   ]
  },
  {
   "cell_type": "code",
   "execution_count": null,
   "metadata": {},
   "outputs": [],
   "source": [
    "import os\n",
    "from itertools import product\n",
    "\n",
    "import numpy as np\n",
    "import pandas as pd\n",
    "import matplotlib.pyplot as plt\n",
    "from nasbench.api import NASBench\n",
    "\n",
    "from main import init_ipynb, main\n",
    "from utils import get_directories, ProgressBar"
   ]
  },
  {
   "cell_type": "code",
   "execution_count": null,
   "metadata": {},
   "outputs": [],
   "source": [
    "DIRS = get_directories(os.path.join(os.path.abspath(''), 'experiment.ipynb'))"
   ]
  },
  {
   "cell_type": "code",
   "execution_count": null,
   "metadata": {},
   "outputs": [],
   "source": [
    "NB = NASBench(DIRS['data'] + 'nasbench_only108.tfrecord')"
   ]
  },
  {
   "cell_type": "markdown",
   "metadata": {},
   "source": [
    "---\n",
    "\n",
    "## Genetic Algorithm"
   ]
  },
  {
   "cell_type": "code",
   "execution_count": null,
   "metadata": {},
   "outputs": [],
   "source": [
    "exp_id = 'GA_exp1'\n",
    "DIRS['csv_exp'] = DIRS['csv'] + exp_id + os.sep\n",
    "if not os.path.exists(DIRS['csv_exp']):\n",
    "    os.mkdir(DIRS['csv_exp'])\n",
    "\n",
    "for n, p in DIRS.items():\n",
    "    print(f'{n}: {p}')"
   ]
  },
  {
   "cell_type": "code",
   "execution_count": null,
   "metadata": {},
   "outputs": [],
   "source": [
    "default_args_GA = dict(\n",
    "    optimizer = 'GA',\n",
    "    population_size = 100,\n",
    "    mu_ = 40,\n",
    "    lambda_ = 60,\n",
    "    budget = 5000,\n",
    "    recombination = 'kp',\n",
    "    selection = 'rw',\n",
    "    mutation = 'uniform',\n",
    "    xp = 1,\n",
    "    mut_r = None,\n",
    "    mut_b = None,\n",
    "    run_id = None,\n",
    "    verbose = 0,\n",
    "    seed = 42,\n",
    "    repetitions = 20,\n",
    "    log = False\n",
    ")"
   ]
  },
  {
   "cell_type": "code",
   "execution_count": null,
   "metadata": {},
   "outputs": [],
   "source": [
    "selections = ['rw', 'ts', 'rk', 'su']\n",
    "mutations = [('u', 0.001), ('u', 0.005), ('u', 0.1), ('b', 1), ('b', 2), ('b', 3)]\n",
    "recombinations = [('kp', 1), ('kp', 2), ('kp', 3), ('u', None)]\n",
    "pop_divisions = [(100, 40, 60), (100, 40, 100), (100, 20, 80), (100, 20, 100)]\n",
    "pop_divisions += [(40, 20, 20), (40, 20, 40), (40, 10, 30), (40, 10, 40)]\n",
    "\n",
    "# create a list of all combinations of the above parameters\n",
    "combinations = list(product(selections, mutations, recombinations, pop_divisions))\n",
    "n_combs = len(combinations)\n",
    "progress = ProgressBar(n_combs, exp_id)\n",
    "\n",
    "for i, (sel, mut, rec, (ps, mu, lm)) in enumerate(combinations):\n",
    "    args = default_args_GA.copy()\n",
    "    args['selection'] = sel\n",
    "    args['mutation'] = mut[0]\n",
    "    if mut[0] == 'u':\n",
    "        args['mut_r'] = mut[1]\n",
    "    else:\n",
    "        args['mut_b'] = mut[1]\n",
    "    args['recombination'] = rec[0]\n",
    "    args['xp'] = rec[1]\n",
    "    args['population_size'] = ps\n",
    "    args['mu_'] = mu\n",
    "    args['lambda_'] = lm\n",
    "    run_id = f'GA_{ps}_{mu}_{lm}_{sel}_{mut[0]}({mut[1]})_{rec[0]}({rec[1]})'.replace('(None)', '')\n",
    "    args['run_id'] = run_id\n",
    "\n",
    "    init_ipynb(NB, args)\n",
    "    main(save_to=DIRS['csv_exp'])\n",
    "\n",
    "    progress(i)"
   ]
  },
  {
   "cell_type": "code",
   "execution_count": null,
   "metadata": {},
   "outputs": [],
   "source": [
    "df_GA = pd.DataFrame(columns=['max_avg_value', 'pop_size', 'mu', 'lambda', 'selection', 'mutation', 'recombination'])\n",
    "df_GA.index.name = 'run_id'\n",
    "\n",
    "for file in os.listdir(DIRS['csv_exp']):\n",
    "    if not file.endswith('.csv'):\n",
    "        continue\n",
    "    df_ = pd.read_csv(os.path.join(DIRS['csv_exp'], file), index_col=0)\n",
    "    max_val = df_.mean(axis=1).iloc[-1]\n",
    "    run_id = file[3:-4]  # trim 'GA_' and '.csv'\n",
    "    ps, mu, lm, sel, mut, rec = run_id.split('_')\n",
    "    df_GA.loc[run_id] = [max_val, ps, mu, lm, sel, mut, rec]\n",
    "\n",
    "# sort by highest value\n",
    "df_GA = df_GA.sort_values(by='max_avg_value', ascending=False)\n",
    "\n",
    "# save to csv with same name as dir where all individual csv files are stored\n",
    "df_GA.to_csv(os.path.join(DIRS['csv'], f'{exp_id}.csv'))"
   ]
  },
  {
   "cell_type": "markdown",
   "metadata": {},
   "source": [
    "---\n",
    "\n",
    "## Evolution Strategy"
   ]
  },
  {
   "cell_type": "code",
   "execution_count": null,
   "metadata": {},
   "outputs": [],
   "source": [
    "exp_id = 'ES_exp1'\n",
    "DIRS['csv_exp'] = DIRS['csv'] + exp_id + os.sep\n",
    "if not os.path.exists(DIRS['csv_exp']):\n",
    "    os.mkdir(DIRS['csv_exp'])\n",
    "\n",
    "for n, p in DIRS.items():\n",
    "    print(f'{n}: {p}')"
   ]
  },
  {
   "cell_type": "code",
   "execution_count": null,
   "metadata": {},
   "outputs": [],
   "source": [
    "default_args_ES = dict(\n",
    "    optimizer = 'ES',\n",
    "    population_size = 100,\n",
    "    mu_ = 40,\n",
    "    lambda_ = 60,\n",
    "    budget = 5000,\n",
    "    recombination = 'd',\n",
    "    tau_ = 0.1,\n",
    "    sigma_ = 0.01,\n",
    "    chunk_size = 3,\n",
    "    individual_sigmas = False,\n",
    "    run_id = None,\n",
    "    verbose = 0,\n",
    "    seed = 42,\n",
    "    repetitions = 20,\n",
    "    log = False,\n",
    ")"
   ]
  },
  {
   "cell_type": "code",
   "execution_count": null,
   "metadata": {},
   "outputs": [],
   "source": [
    "recombinations = ['d', 'i', 'dg', 'ig']\n",
    "taus = [0.1, 0.2, 0.5, 0.99]\n",
    "sigmas = [0.01, 0.1, 0.5]\n",
    "chunk_sizes = [3, 7]\n",
    "individual_sigmas = [True, False]\n",
    "pop_divisions = [(100, 40, 60), (100, 40, 100), (100, 20, 80), (100, 20, 100)]\n",
    "pop_divisions += [(40, 20, 20), (40, 20, 40), (40, 10, 30), (40, 10, 40)]\n",
    "\n",
    "combinations = list(product(recombinations, taus, sigmas, chunk_sizes, individual_sigmas, pop_divisions))\n",
    "n_combs = len(combinations)\n",
    "progress = ProgressBar(n_combs, exp_id)\n",
    "\n",
    "for i, (rec, tau, sig, chsz, isig, (ps, mu, lm)) in enumerate(combinations):\n",
    "    args = default_args_ES.copy()\n",
    "    args['recombination'] = rec\n",
    "    args['tau_'] = tau\n",
    "    args['sigma_'] = sig\n",
    "    args['chunk_size'] = chsz\n",
    "    args['individual_sigmas'] = isig\n",
    "    args['population_size'] = ps\n",
    "    args['mu_'] = mu\n",
    "    args['lambda_'] = lm\n",
    "    run_id = f'ES_{ps}_{mu}_{lm}_{rec}_{sig}_{tau}_{chsz}_{isig}'\n",
    "    args['run_id'] = run_id\n",
    "\n",
    "    init_ipynb(NB, args)\n",
    "    main(save_to=DIRS['csv_exp'])\n",
    "\n",
    "    progress(i)"
   ]
  },
  {
   "cell_type": "code",
   "execution_count": null,
   "metadata": {},
   "outputs": [],
   "source": [
    "df_ES = pd.DataFrame(columns=['max_avg_value', 'pop_size', 'mu', 'lambda', 'recombination', 'sigma', 'tau', 'chunk_size', 'individual_sigmas'])\n",
    "df_ES.index.name = 'run_id'\n",
    "\n",
    "for file in os.listdir(DIRS['csv_exp']):\n",
    "    if not file.endswith('.csv'):\n",
    "        continue\n",
    "    df_ = pd.read_csv(os.path.join(DIRS['csv_exp'], file), index_col=0)\n",
    "    max_val = df_.mean(axis=1).iloc[-1]\n",
    "    run_id = file[3:-4]  # trim 'ES_' and '.csv'\n",
    "    ps, mu, lm, rec, sig, tau, chsz, isig = run_id.split('_')\n",
    "    df_ES.loc[run_id] = [max_val, ps, mu, lm, rec, sig, tau, chsz, isig]\n",
    "\n",
    "# sort by highest value\n",
    "df_ES = df_ES.sort_values(by='max_avg_value', ascending=False)\n",
    "\n",
    "# save to csv with same name as dir where all individual csv files are stored\n",
    "df_ES.to_csv(os.path.join(DIRS['csv'], f'{exp_id}.csv'))"
   ]
  }
 ],
 "metadata": {
  "kernelspec": {
   "display_name": "Python 3.10.8 ('venv': venv)",
   "language": "python",
   "name": "python3"
  },
  "language_info": {
   "codemirror_mode": {
    "name": "ipython",
    "version": 3
   },
   "file_extension": ".py",
   "mimetype": "text/x-python",
   "name": "python",
   "nbconvert_exporter": "python",
   "pygments_lexer": "ipython3",
   "version": "3.10.8"
  },
  "orig_nbformat": 4,
  "vscode": {
   "interpreter": {
    "hash": "ba309399f570c57919de3bfb36c195c6481f6cdea1861c2eb2b107e7cf184e6f"
   }
  }
 },
 "nbformat": 4,
 "nbformat_minor": 2
}
