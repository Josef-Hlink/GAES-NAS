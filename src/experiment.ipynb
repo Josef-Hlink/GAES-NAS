{
 "cells": [
  {
   "cell_type": "markdown",
   "metadata": {},
   "source": [
    "# Experiment"
   ]
  },
  {
   "cell_type": "markdown",
   "metadata": {},
   "source": [
    "In this notebook we will explore a range of parameters for both GA and ES to find the best combination of parameters for each algorithm.\n",
    "We do this as a simple gridsearch where we specify a set of values for each parameter and then simply run all possible configurations.\n",
    "The results of each run are stored in a csv file."
   ]
  },
  {
   "cell_type": "markdown",
   "metadata": {},
   "source": [
    "Imports"
   ]
  },
  {
   "cell_type": "code",
   "execution_count": null,
   "metadata": {},
   "outputs": [],
   "source": [
    "import os\n",
    "from itertools import product\n",
    "\n",
    "import numpy as np\n",
    "import pandas as pd\n",
    "import matplotlib.pyplot as plt\n",
    "from nasbench.api import NASBench\n",
    "\n",
    "from main import init_ipynb\n",
    "from utils import get_directories, ProgressBar"
   ]
  },
  {
   "cell_type": "code",
   "execution_count": null,
   "metadata": {},
   "outputs": [],
   "source": [
    "DIRS = get_directories(os.path.join(os.path.abspath(''), 'experiment.ipynb'))"
   ]
  },
  {
   "cell_type": "code",
   "execution_count": null,
   "metadata": {},
   "outputs": [],
   "source": [
    "NB = NASBench(DIRS['data'] + 'nasbench_only108.tfrecord')"
   ]
  },
  {
   "cell_type": "markdown",
   "metadata": {},
   "source": [
    "---\n",
    "\n",
    "## Genetic Algorithm"
   ]
  },
  {
   "cell_type": "code",
   "execution_count": null,
   "metadata": {},
   "outputs": [],
   "source": [
    "exp_id = 'GA_exp'\n",
    "DIRS['csv_exp'] = DIRS['csv'] + exp_id + os.sep\n",
    "if not os.path.exists(DIRS['csv_exp']):\n",
    "    os.mkdir(DIRS['csv_exp'])\n",
    "\n",
    "for n, p in DIRS.items():\n",
    "    print(f'{n}: {p}')"
   ]
  },
  {
   "cell_type": "code",
   "execution_count": null,
   "metadata": {},
   "outputs": [],
   "source": [
    "default_args = dict(budget=5000, verbose=0, repetitions=20, log=False, seed=42)"
   ]
  },
  {
   "cell_type": "code",
   "execution_count": null,
   "metadata": {},
   "outputs": [],
   "source": [
    "selections = ['rw', 'ts', 'rk', 'su']\n",
    "mutations = [('u', 0.01), ('u', 0.04), ('u', 0.1), ('b', 1), ('b', 2), ('b', 3)]\n",
    "recombinations = [('kp', 1), ('kp', 2), ('kp', 3), ('u', None)]\n",
    "pop_divisions = [(100, 40, 60), (100, 40, 100), (100, 20, 80), (100, 20, 100)]\n",
    "pop_divisions += [(40, 20, 20), (40, 20, 40), (40, 10, 30), (40, 10, 40)]\n",
    "\n",
    "# create a list of all combinations of the above parameters\n",
    "combinations = list(product(selections, mutations, recombinations, pop_divisions))\n",
    "n_combs = len(combinations)\n",
    "progress = ProgressBar(n_combs, exp_id)\n",
    "\n",
    "for i, (sel, mut, rec, (ps, mu, lm)) in enumerate(combinations):\n",
    "    args = default_args.copy()\n",
    "    args['optimizer'] = 'GA'\n",
    "    args['selection'] = sel\n",
    "    args['mutation'] = mut[0]\n",
    "    if mut[0] == 'u':\n",
    "        args['mut_r'] = mut[1]\n",
    "        args['mut_b'] = 1\n",
    "    else:\n",
    "        args['mut_b'] = mut[1]\n",
    "        args['mut_r'] = None\n",
    "    args['recombination'] = rec[0]\n",
    "    args['xp'] = rec[1]\n",
    "    args['population_size'] = ps\n",
    "    args['mu_'] = mu\n",
    "    args['lambda_'] = lm\n",
    "    mut_id = f'u-{mut[1]:.3f}' if mut[0] == 'u' else f'n-{mut[1]}'\n",
    "    rec_id = f'kp-{rec[1]}' if rec[0] == 'kp' else 'u'\n",
    "    run_id = f'GA_P{ps}_M{mu}_L{lm}_SEL{sel}_REC{rec_id}_MUT{mut_id}'\n",
    "    args['run_id'] = run_id\n",
    "\n",
    "    init_ipynb(NB, args, save_to=DIRS['csv_exp'])\n",
    "\n",
    "    progress(i)"
   ]
  },
  {
   "cell_type": "code",
   "execution_count": null,
   "metadata": {},
   "outputs": [],
   "source": [
    "df_GA = pd.DataFrame(columns=['max_avg_value', 'pop_size', 'mu', 'lambda', 'selection', 'recombination', 'mutation'])\n",
    "df_GA.index.name = 'run_id'\n",
    "\n",
    "for file in os.listdir(DIRS['csv_exp']):\n",
    "    if not file.endswith('.csv'):\n",
    "        continue\n",
    "    df_ = pd.read_csv(os.path.join(DIRS['csv_exp'], file), index_col=0)\n",
    "    max_val = df_.mean(axis=1).iloc[-1]\n",
    "    run_id = file[3:-4]  # trim 'GA_' and '.csv'\n",
    "    ps, mu, lm, sel, rec, mut = run_id.split('_')\n",
    "    df_GA.loc[run_id] = [max_val, ps[1:], mu[1:], lm[1:], sel[3:], rec[3:], mut[3:]]\n",
    "\n",
    "# sort by highest value\n",
    "df_GA = df_GA.sort_values(by='max_avg_value', ascending=False)\n",
    "\n",
    "# save to csv with same name as dir where all individual csv files are stored\n",
    "df_GA.to_csv(os.path.join(DIRS['csv'], f'{exp_id}.csv'))"
   ]
  },
  {
   "cell_type": "markdown",
   "metadata": {},
   "source": [
    "---\n",
    "\n",
    "## Evolution Strategy"
   ]
  },
  {
   "cell_type": "code",
   "execution_count": null,
   "metadata": {},
   "outputs": [],
   "source": [
    "exp_id = 'ES_exp'\n",
    "DIRS['csv_exp'] = DIRS['csv'] + exp_id + os.sep\n",
    "if not os.path.exists(DIRS['csv_exp']):\n",
    "    os.mkdir(DIRS['csv_exp'])\n",
    "\n",
    "for n, p in DIRS.items():\n",
    "    print(f'{n}: {p}')"
   ]
  },
  {
   "cell_type": "code",
   "execution_count": null,
   "metadata": {},
   "outputs": [],
   "source": [
    "recombinations = ['d', 'i', 'dg', 'ig']\n",
    "taus = [0.1, 0.2, 0.5, 0.99]\n",
    "sigmas = [0.01, 0.1, 0.5]\n",
    "chunk_sizes = [3, 7]\n",
    "individual_sigmas = [True, False]\n",
    "pop_divisions = [(100, 40, 60), (100, 40, 100), (100, 20, 80), (100, 20, 100)]\n",
    "pop_divisions += [(40, 20, 20), (40, 20, 40), (40, 10, 30), (40, 10, 40)]\n",
    "\n",
    "combinations = list(product(recombinations, taus, sigmas, chunk_sizes, individual_sigmas, pop_divisions))\n",
    "n_combs = len(combinations)\n",
    "progress = ProgressBar(n_combs, exp_id)\n",
    "\n",
    "for i, (rec, tau, sig, chsz, isig, (ps, mu, lm)) in enumerate(combinations):\n",
    "    args = default_args.copy()\n",
    "    args['optimizer'] = 'ES'\n",
    "    args['recombination'] = rec\n",
    "    args['tau_'] = tau\n",
    "    args['sigma_'] = sig\n",
    "    args['chunk_size'] = chsz\n",
    "    args['individual_sigmas'] = isig\n",
    "    args['population_size'] = ps\n",
    "    args['mu_'] = mu\n",
    "    args['lambda_'] = lm\n",
    "    run_id = f'ES_P{ps}_M{mu}_L{lm}_S{sig}_T{tau}_C{chsz}_REC{rec}'\n",
    "    if isig: run_id += '_IS'\n",
    "    args['run_id'] = run_id\n",
    "\n",
    "    init_ipynb(NB, args, save_to=DIRS['csv_exp'])\n",
    "\n",
    "    progress(i)"
   ]
  },
  {
   "cell_type": "code",
   "execution_count": null,
   "metadata": {},
   "outputs": [],
   "source": [
    "df_ES = pd.DataFrame(columns=['max_avg_value', 'pop_size', 'mu', 'lambda', 'sigma', 'tau', 'chunk_size', 'recombination', 'individual_sigmas'])\n",
    "df_ES.index.name = 'run_id'\n",
    "\n",
    "for file in os.listdir(DIRS['csv_exp']):\n",
    "    if not file.endswith('.csv'):\n",
    "        continue\n",
    "    df_ = pd.read_csv(os.path.join(DIRS['csv_exp'], file), index_col=0)\n",
    "    max_val = df_.mean(axis=1).iloc[-1]\n",
    "    run_id = file[3:-4]  # trim 'ES_' and '.csv'\n",
    "    ps, mu, lm, sig, tau, chsz, rec, *isig = run_id.split('_')\n",
    "    df_ES.loc[run_id] = [max_val, ps[1:], mu[1:], lm[1:], sig[1:], tau[1:], chsz[1:], rec[3:], True if isig else False]\n",
    "\n",
    "# sort by highest value\n",
    "df_ES = df_ES.sort_values(by='max_avg_value', ascending=False)\n",
    "\n",
    "# save to csv with same name as dir where all individual csv files are stored\n",
    "df_ES.to_csv(os.path.join(DIRS['csv'], f'{exp_id}.csv'))"
   ]
  }
 ],
 "metadata": {
  "kernelspec": {
   "display_name": "Python 3.10.8 ('venv': venv)",
   "language": "python",
   "name": "python3"
  },
  "language_info": {
   "codemirror_mode": {
    "name": "ipython",
    "version": 3
   },
   "file_extension": ".py",
   "mimetype": "text/x-python",
   "name": "python",
   "nbconvert_exporter": "python",
   "pygments_lexer": "ipython3",
   "version": "3.10.8"
  },
  "orig_nbformat": 4,
  "vscode": {
   "interpreter": {
    "hash": "ba309399f570c57919de3bfb36c195c6481f6cdea1861c2eb2b107e7cf184e6f"
   }
  }
 },
 "nbformat": 4,
 "nbformat_minor": 2
}
